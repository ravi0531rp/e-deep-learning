{
 "cells": [
  {
   "cell_type": "code",
   "execution_count": 1,
   "id": "8c9d6a7f",
   "metadata": {},
   "outputs": [],
   "source": [
    "import torch\n",
    "import torch.nn as nn\n",
    "from torch.utils.data import DataLoader"
   ]
  },
  {
   "cell_type": "code",
   "execution_count": 2,
   "id": "424bb24b",
   "metadata": {},
   "outputs": [],
   "source": [
    "import torchvision.datasets as datasets\n",
    "import torchvision.transforms as transforms"
   ]
  },
  {
   "cell_type": "code",
   "execution_count": 3,
   "id": "c8208843",
   "metadata": {},
   "outputs": [
    {
     "data": {
      "text/plain": [
       "True"
      ]
     },
     "execution_count": 3,
     "metadata": {},
     "output_type": "execute_result"
    }
   ],
   "source": [
    "torch.cuda.is_available()"
   ]
  },
  {
   "cell_type": "code",
   "execution_count": 4,
   "id": "c5a3ee4e",
   "metadata": {},
   "outputs": [],
   "source": [
    "mean_gray = 0.1307\n",
    "stddev_gray = 0.3081"
   ]
  },
  {
   "cell_type": "code",
   "execution_count": 5,
   "id": "58d2dd04",
   "metadata": {},
   "outputs": [],
   "source": [
    "transforms = transforms.Compose([transforms.ToTensor(),\n",
    "                                transforms.Normalize((mean_gray,), (stddev_gray,))])\n"
   ]
  },
  {
   "cell_type": "code",
   "execution_count": 6,
   "id": "2d752c1b",
   "metadata": {},
   "outputs": [],
   "source": [
    "train_dataset = datasets.MNIST(root = './data', \n",
    "                            train = True, \n",
    "                            transform = transforms,\n",
    "                            download = False)\n",
    "\n",
    "test_dataset = datasets.MNIST(root = './data', \n",
    "                            train = False, \n",
    "                            transform = transforms)"
   ]
  },
  {
   "cell_type": "code",
   "execution_count": 7,
   "id": "979e7c5f",
   "metadata": {},
   "outputs": [
    {
     "data": {
      "text/plain": [
       "<matplotlib.image.AxesImage at 0x7f37a26973d0>"
      ]
     },
     "execution_count": 7,
     "metadata": {},
     "output_type": "execute_result"
    },
    {
     "data": {
      "image/png": "[encoded data removed]",
      "text/plain": [
       "<Figure size 432x288 with 1 Axes>"
      ]
     },
     "metadata": {
      "needs_background": "light"
     },
     "output_type": "display_data"
    }
   ],
   "source": [
    "import matplotlib.pyplot as plt\n",
    "random_image = train_dataset[20][0].numpy() * stddev_gray + mean_gray\n",
    "plt.imshow(random_image.reshape(28, 28), cmap='gray')"
   ]
  },
  {
   "cell_type": "code",
   "execution_count": 8,
   "id": "42d165b7",
   "metadata": {},
   "outputs": [
    {
     "data": {
      "text/plain": [
       "4"
      ]
     },
     "execution_count": 8,
     "metadata": {},
     "output_type": "execute_result"
    }
   ],
   "source": [
    "train_dataset[20][1]"
   ]
  },
  {
   "cell_type": "markdown",
   "id": "7e482136",
   "metadata": {},
   "source": [
    "![cnn mnist](https://user-images.githubusercontent.com/30661597/61713471-3c957d00-ad8b-11e9-9a38-e3f4d1e72565.png)"
   ]
  },
  {
   "cell_type": "code",
   "execution_count": 9,
   "id": "645c8ecd",
   "metadata": {},
   "outputs": [],
   "source": [
    "batch_size = 100\n",
    "\n",
    "train_load = torch.utils.data.DataLoader(dataset = train_dataset, \n",
    "                                         batch_size = batch_size,\n",
    "                                         shuffle = True)\n",
    "\n",
    "test_load = torch.utils.data.DataLoader(dataset = test_dataset, \n",
    "                                         batch_size = batch_size,\n",
    "                                         shuffle = False)"
   ]
  },
  {
   "cell_type": "code",
   "execution_count": 10,
   "id": "f0ab6d4d",
   "metadata": {},
   "outputs": [
    {
     "name": "stdout",
     "output_type": "stream",
     "text": [
      "There are 60000 images in the training set\n",
      "There are 10000 images in the test set\n",
      "There are 600 batches in the train loader\n",
      "There are 100 batches in the testloader\n"
     ]
    }
   ],
   "source": [
    "print('There are {} images in the training set'.format(len(train_dataset)))\n",
    "print('There are {} images in the test set'.format(len(test_dataset)))\n",
    "print('There are {} batches in the train loader'.format(len(train_load)))\n",
    "print('There are {} batches in the testloader'.format(len(test_load)))"
   ]
  },
  {
   "cell_type": "code",
   "execution_count": 11,
   "id": "3396b35d",
   "metadata": {},
   "outputs": [],
   "source": [
    "class CNN(nn.Module):\n",
    "    def __init__(self):\n",
    "        super(CNN, self).__init__()\n",
    "        #Same Padding = [(filter size - 1) / 2] (Same Padding--> input size = output size)\n",
    "        self.cnn1 = nn.Conv2d(in_channels=1, out_channels=8, kernel_size=3,stride=1, padding=1)\n",
    "        #The output size of each of the 8 feature maps is \n",
    "        #[(input_size - filter_size + 2(padding) / stride) +1] --> [(28-3+2(1)/1)+1] = 28 (padding type is same)\n",
    "        #Batch normalization\n",
    "        self.batchnorm1 = nn.BatchNorm2d(8)\n",
    "        #RELU\n",
    "        self.relu = nn.ReLU()\n",
    "        self.maxpool = nn.MaxPool2d(kernel_size=2)\n",
    "        #After max pooling, the output of each feature map is now 28/2 = 14\n",
    "        self.cnn2 = nn.Conv2d(in_channels=8, out_channels=32, kernel_size=5, stride=1, padding=2)\n",
    "        #Output size of each of the 32 feature maps remains 14\n",
    "        self.batchnorm2 = nn.BatchNorm2d(32)\n",
    "        #After max pooling, the output of each feature map is 14/2 = 7\n",
    "        #Flatten the feature maps. You have 32 feature maps, each of them is of size 7x7 --> 32*7*7 = 1568\n",
    "        self.fc1 = nn.Linear(in_features=1568, out_features=600)\n",
    "        self.droput = nn.Dropout(p=0.5)\n",
    "        self.fc2 = nn.Linear(in_features=600, out_features=10)\n",
    "        \n",
    "    def forward(self, x):\n",
    "        out = self.cnn1(x)\n",
    "        out = self.batchnorm1(out)\n",
    "        out = self.relu(out)\n",
    "        out = self.maxpool(out)\n",
    "        \n",
    "        out = self.cnn2(out)\n",
    "        out = self.batchnorm2(out)\n",
    "        out = self.relu(out)\n",
    "        out = self.maxpool(out)\n",
    "        \n",
    "        #Now we have to flatten the output. This is where we apply the feed forward neural network as learned before! \n",
    "        #It will take the shape (batch_size, 1568) = (100, 1568)\n",
    "        out = out.view(-1,1568)\n",
    "        #Then we forward through our fully connected layer \n",
    "        out = self.fc1(out)\n",
    "        out = self.relu(out)\n",
    "        out = self.droput(out)\n",
    "        out = self.fc2(out)\n",
    "        return out"
   ]
  },
  {
   "cell_type": "code",
   "execution_count": 12,
   "id": "67473ad1",
   "metadata": {},
   "outputs": [],
   "source": [
    "cnn = CNN()"
   ]
  },
  {
   "cell_type": "code",
   "execution_count": 13,
   "id": "b17c3a39",
   "metadata": {},
   "outputs": [
    {
     "data": {
      "text/plain": [
       "CNN(\n",
       "  (cnn1): Conv2d(1, 8, kernel_size=(3, 3), stride=(1, 1), padding=(1, 1))\n",
       "  (batchnorm1): BatchNorm2d(8, eps=1e-05, momentum=0.1, affine=True, track_running_stats=True)\n",
       "  (relu): ReLU()\n",
       "  (maxpool): MaxPool2d(kernel_size=2, stride=2, padding=0, dilation=1, ceil_mode=False)\n",
       "  (cnn2): Conv2d(8, 32, kernel_size=(5, 5), stride=(1, 1), padding=(2, 2))\n",
       "  (batchnorm2): BatchNorm2d(32, eps=1e-05, momentum=0.1, affine=True, track_running_stats=True)\n",
       "  (fc1): Linear(in_features=1568, out_features=600, bias=True)\n",
       "  (droput): Dropout(p=0.5, inplace=False)\n",
       "  (fc2): Linear(in_features=600, out_features=10, bias=True)\n",
       ")"
      ]
     },
     "execution_count": 13,
     "metadata": {},
     "output_type": "execute_result"
    }
   ],
   "source": [
    "cnn"
   ]
  },
  {
   "cell_type": "code",
   "execution_count": 14,
   "id": "163050ad",
   "metadata": {},
   "outputs": [],
   "source": [
    "CUDA = torch.cuda.is_available()"
   ]
  },
  {
   "cell_type": "code",
   "execution_count": 15,
   "id": "47e8f709",
   "metadata": {},
   "outputs": [
    {
     "data": {
      "text/plain": [
       "True"
      ]
     },
     "execution_count": 15,
     "metadata": {},
     "output_type": "execute_result"
    }
   ],
   "source": [
    "CUDA"
   ]
  },
  {
   "cell_type": "code",
   "execution_count": 16,
   "id": "8708f7a8",
   "metadata": {},
   "outputs": [],
   "source": [
    "if CUDA:\n",
    "    cnn = cnn.cuda()"
   ]
  },
  {
   "cell_type": "code",
   "execution_count": 17,
   "id": "f0fcc81d",
   "metadata": {},
   "outputs": [],
   "source": [
    "loss_fn = nn.CrossEntropyLoss()        \n",
    "# Show weight decay\n",
    "optimizer = torch.optim.SGD(cnn.parameters(), lr = 0.01)"
   ]
  },
  {
   "cell_type": "code",
   "execution_count": 21,
   "id": "d0f2bfc9",
   "metadata": {},
   "outputs": [
    {
     "name": "stdout",
     "output_type": "stream",
     "text": [
      "Epoch 1/25, Training Loss: 0.157, Training Accuracy: 95.487, Testing Loss: 0.096, Testing Acc: 97.280\n",
      "Epoch 2/25, Training Loss: 0.114, Training Accuracy: 96.655, Testing Loss: 0.075, Testing Acc: 97.790\n",
      "Epoch 3/25, Training Loss: 0.093, Training Accuracy: 97.335, Testing Loss: 0.065, Testing Acc: 97.960\n",
      "Epoch 4/25, Training Loss: 0.081, Training Accuracy: 97.633, Testing Loss: 0.057, Testing Acc: 98.150\n",
      "Epoch 5/25, Training Loss: 0.072, Training Accuracy: 97.885, Testing Loss: 0.053, Testing Acc: 98.330\n",
      "Epoch 6/25, Training Loss: 0.065, Training Accuracy: 98.058, Testing Loss: 0.048, Testing Acc: 98.390\n",
      "Epoch 7/25, Training Loss: 0.059, Training Accuracy: 98.290, Testing Loss: 0.045, Testing Acc: 98.480\n",
      "Epoch 8/25, Training Loss: 0.054, Training Accuracy: 98.400, Testing Loss: 0.042, Testing Acc: 98.500\n",
      "Epoch 9/25, Training Loss: 0.052, Training Accuracy: 98.448, Testing Loss: 0.042, Testing Acc: 98.540\n",
      "Epoch 10/25, Training Loss: 0.046, Training Accuracy: 98.653, Testing Loss: 0.040, Testing Acc: 98.640\n",
      "Epoch 11/25, Training Loss: 0.045, Training Accuracy: 98.668, Testing Loss: 0.042, Testing Acc: 98.570\n",
      "Epoch 12/25, Training Loss: 0.043, Training Accuracy: 98.747, Testing Loss: 0.038, Testing Acc: 98.640\n",
      "Epoch 13/25, Training Loss: 0.041, Training Accuracy: 98.762, Testing Loss: 0.039, Testing Acc: 98.660\n",
      "Epoch 14/25, Training Loss: 0.038, Training Accuracy: 98.907, Testing Loss: 0.034, Testing Acc: 98.710\n",
      "Epoch 15/25, Training Loss: 0.037, Training Accuracy: 98.970, Testing Loss: 0.034, Testing Acc: 98.810\n",
      "Epoch 16/25, Training Loss: 0.035, Training Accuracy: 98.957, Testing Loss: 0.033, Testing Acc: 98.830\n",
      "Epoch 17/25, Training Loss: 0.033, Training Accuracy: 99.003, Testing Loss: 0.034, Testing Acc: 98.850\n",
      "Epoch 18/25, Training Loss: 0.032, Training Accuracy: 99.092, Testing Loss: 0.033, Testing Acc: 98.900\n",
      "Epoch 19/25, Training Loss: 0.031, Training Accuracy: 99.067, Testing Loss: 0.031, Testing Acc: 98.950\n",
      "Epoch 20/25, Training Loss: 0.029, Training Accuracy: 99.103, Testing Loss: 0.034, Testing Acc: 98.850\n",
      "Epoch 21/25, Training Loss: 0.028, Training Accuracy: 99.175, Testing Loss: 0.031, Testing Acc: 98.910\n",
      "Epoch 22/25, Training Loss: 0.028, Training Accuracy: 99.172, Testing Loss: 0.029, Testing Acc: 98.930\n",
      "Epoch 23/25, Training Loss: 0.027, Training Accuracy: 99.227, Testing Loss: 0.029, Testing Acc: 99.030\n",
      "Epoch 24/25, Training Loss: 0.025, Training Accuracy: 99.233, Testing Loss: 0.030, Testing Acc: 98.970\n",
      "Epoch 25/25, Training Loss: 0.025, Training Accuracy: 99.288, Testing Loss: 0.030, Testing Acc: 98.890\n"
     ]
    }
   ],
   "source": [
    "#Training the CNN\n",
    "num_epochs = 25\n",
    "\n",
    "#Define the lists to store the results of loss and accuracy\n",
    "train_loss = []\n",
    "test_loss = []\n",
    "train_accuracy = []\n",
    "test_accuracy = []\n",
    "\n",
    "#Training\n",
    "for epoch in range(num_epochs): \n",
    "    #Reset these below variables to 0 at the begining of every epoch\n",
    "    correct = 0\n",
    "    iterations = 0\n",
    "    iter_loss = 0.0\n",
    "    \n",
    "    cnn.train()                   # Put the network into training mode\n",
    "    \n",
    "    for i, (inputs, labels) in enumerate(train_load):\n",
    "        \n",
    "        if CUDA:\n",
    "            inputs = inputs.cuda()\n",
    "            labels = labels.cuda()\n",
    "        \n",
    "        outputs = cnn(inputs)         \n",
    "        loss = loss_fn(outputs, labels)  \n",
    "        iter_loss += loss.item()         # Accumulate the loss\n",
    "        optimizer.zero_grad()            # Clear off the gradient in (w = w - gradient)\n",
    "        loss.backward()                 # Backpropagation \n",
    "        optimizer.step()                # Update the weights\n",
    "        \n",
    "        # Record the correct predictions for training data \n",
    "        _, predicted = torch.max(outputs, 1)\n",
    "        correct += (predicted == labels).sum()\n",
    "        iterations += 1\n",
    "    \n",
    "    # Record the training loss\n",
    "    train_loss.append(iter_loss/iterations)\n",
    "    # Record the training accuracy\n",
    "    train_accuracy.append((100 * correct / len(train_dataset)))\n",
    "   \n",
    "    #Testing\n",
    "    testing_loss = 0.0\n",
    "    correct = 0\n",
    "    iterations = 0\n",
    "\n",
    "    cnn.eval()                    # Put the network into evaluation mode\n",
    "    \n",
    "    for i, (inputs, labels) in enumerate(test_load):\n",
    "\n",
    "        if CUDA:\n",
    "            inputs = inputs.cuda()\n",
    "            labels = labels.cuda()\n",
    "        \n",
    "        outputs = cnn(inputs)     \n",
    "        loss = loss_fn(outputs, labels) # Calculate the loss\n",
    "        testing_loss += loss.item()\n",
    "        # Record the correct predictions for training data\n",
    "        _, predicted = torch.max(outputs, 1)\n",
    "        correct += (predicted == labels).sum()\n",
    "        \n",
    "        iterations += 1\n",
    "\n",
    "    # Record the Testing loss\n",
    "    test_loss.append(testing_loss/iterations)\n",
    "    # Record the Testing accuracy\n",
    "    test_accuracy.append((100 * correct / len(test_dataset)))\n",
    "    \n",
    "    print ('Epoch {}/{}, Training Loss: {:.3f}, Training Accuracy: {:.3f}, Testing Loss: {:.3f}, Testing Acc: {:.3f}'\n",
    "           .format(epoch+1, num_epochs, train_loss[-1], train_accuracy[-1], \n",
    "             test_loss[-1], test_accuracy[-1]))"
   ]
  },
  {
   "cell_type": "code",
   "execution_count": 22,
   "id": "af7508f1",
   "metadata": {},
   "outputs": [
    {
     "data": {
      "image/png": "[encoded data removed]",
      "text/plain": [
       "<Figure size 720x720 with 1 Axes>"
      ]
     },
     "metadata": {
      "needs_background": "light"
     },
     "output_type": "display_data"
    }
   ],
   "source": [
    "# Loss\n",
    "f = plt.figure(figsize=(10, 10))\n",
    "plt.plot(train_loss, label='Training Loss')\n",
    "plt.plot(test_loss, label='Testing Loss')\n",
    "plt.legend()\n",
    "plt.show()"
   ]
  },
  {
   "cell_type": "code",
   "execution_count": 32,
   "id": "a86ff5a0",
   "metadata": {},
   "outputs": [
    {
     "data": {
      "text/plain": [
       "[tensor(95.4867, device='cuda:0'),\n",
       " tensor(96.6550, device='cuda:0'),\n",
       " tensor(97.3350, device='cuda:0'),\n",
       " tensor(97.6333, device='cuda:0'),\n",
       " tensor(97.8850, device='cuda:0'),\n",
       " tensor(98.0583, device='cuda:0'),\n",
       " tensor(98.2900, device='cuda:0'),\n",
       " tensor(98.4000, device='cuda:0'),\n",
       " tensor(98.4483, device='cuda:0'),\n",
       " tensor(98.6533, device='cuda:0'),\n",
       " tensor(98.6683, device='cuda:0'),\n",
       " tensor(98.7467, device='cuda:0'),\n",
       " tensor(98.7617, device='cuda:0'),\n",
       " tensor(98.9067, device='cuda:0'),\n",
       " tensor(98.9700, device='cuda:0'),\n",
       " tensor(98.9567, device='cuda:0'),\n",
       " tensor(99.0033, device='cuda:0'),\n",
       " tensor(99.0917, device='cuda:0'),\n",
       " tensor(99.0667, device='cuda:0'),\n",
       " tensor(99.1033, device='cuda:0'),\n",
       " tensor(99.1750, device='cuda:0'),\n",
       " tensor(99.1717, device='cuda:0'),\n",
       " tensor(99.2267, device='cuda:0'),\n",
       " tensor(99.2333, device='cuda:0'),\n",
       " tensor(99.2883, device='cuda:0')]"
      ]
     },
     "execution_count": 32,
     "metadata": {},
     "output_type": "execute_result"
    }
   ],
   "source": [
    "train_accuracy"
   ]
  },
  {
   "cell_type": "code",
   "execution_count": 35,
   "id": "c46f9ab3",
   "metadata": {},
   "outputs": [],
   "source": [
    "train_accuracy2 = [t.cpu() for t in train_accuracy]\n",
    "test_accuracy2 = [t.cpu() for t in test_accuracy]"
   ]
  },
  {
   "cell_type": "code",
   "execution_count": 36,
   "id": "5bca9b7e",
   "metadata": {},
   "outputs": [
    {
     "data": {
      "text/plain": [
       "[tensor(95.4867),\n",
       " tensor(96.6550),\n",
       " tensor(97.3350),\n",
       " tensor(97.6333),\n",
       " tensor(97.8850),\n",
       " tensor(98.0583),\n",
       " tensor(98.2900),\n",
       " tensor(98.4000),\n",
       " tensor(98.4483),\n",
       " tensor(98.6533),\n",
       " tensor(98.6683),\n",
       " tensor(98.7467),\n",
       " tensor(98.7617),\n",
       " tensor(98.9067),\n",
       " tensor(98.9700),\n",
       " tensor(98.9567),\n",
       " tensor(99.0033),\n",
       " tensor(99.0917),\n",
       " tensor(99.0667),\n",
       " tensor(99.1033),\n",
       " tensor(99.1750),\n",
       " tensor(99.1717),\n",
       " tensor(99.2267),\n",
       " tensor(99.2333),\n",
       " tensor(99.2883)]"
      ]
     },
     "execution_count": 36,
     "metadata": {},
     "output_type": "execute_result"
    }
   ],
   "source": [
    "train_accuracy2"
   ]
  },
  {
   "cell_type": "code",
   "execution_count": 37,
   "id": "f18e64bc",
   "metadata": {},
   "outputs": [
    {
     "data": {
      "image/png": "[encoded data removed]",
      "text/plain": [
       "<Figure size 720x720 with 1 Axes>"
      ]
     },
     "metadata": {
      "needs_background": "light"
     },
     "output_type": "display_data"
    }
   ],
   "source": [
    "# Accuracy\n",
    "f = plt.figure(figsize=(10, 10))\n",
    "plt.plot(train_accuracy2, label='Training Accuracy')\n",
    "plt.plot(test_accuracy2, label='Testing Accuracy')\n",
    "plt.legend()\n",
    "plt.show()"
   ]
  },
  {
   "cell_type": "code",
   "execution_count": 41,
   "id": "19d7da08",
   "metadata": {},
   "outputs": [
    {
     "name": "stdout",
     "output_type": "stream",
     "text": [
      "Prediction is: 3\n",
      "Actual is: 3\n"
     ]
    }
   ],
   "source": [
    "img = test_dataset[30][0].resize_((1, 1, 28, 28))   #(batch_size,channels,height,width)\n",
    "label = test_dataset[30][1]\n",
    "\n",
    "cnn.eval()\n",
    "\n",
    "if CUDA:\n",
    "    cnn = cnn.cuda()\n",
    "    img = img.cuda()\n",
    "    \n",
    "output = cnn(img)\n",
    "_, predicted = torch.max(output,1)\n",
    "print(\"Prediction is: {}\".format(predicted.item()))\n",
    "print(\"Actual is: {}\".format(label))"
   ]
  },
  {
   "cell_type": "code",
   "execution_count": 43,
   "id": "e141e8e6",
   "metadata": {},
   "outputs": [],
   "source": [
    "mkdir models"
   ]
  },
  {
   "cell_type": "code",
   "execution_count": 44,
   "id": "6dc91c06",
   "metadata": {},
   "outputs": [],
   "source": [
    "\n",
    "torch.save(cnn.state_dict(),'models/CNN_MNIST.pth')"
   ]
  },
  {
   "cell_type": "markdown",
   "id": "a5fe25a3",
   "metadata": {},
   "source": [
    "# Understand a few calls"
   ]
  },
  {
   "cell_type": "code",
   "execution_count": 19,
   "id": "66bac899",
   "metadata": {},
   "outputs": [
    {
     "name": "stdout",
     "output_type": "stream",
     "text": [
      "For one iteration, this is what happens:\n",
      "Input Shape: torch.Size([100, 1, 28, 28])\n",
      "Labels Shape: torch.Size([100])\n",
      "Outputs Shape torch.Size([100, 10])\n",
      "Predicted Shape torch.Size([100])\n",
      "Predicted Tensor:\n",
      "tensor([5, 5, 5, 7, 5, 5, 2, 0, 5, 4, 2, 5, 3, 7, 2, 5, 2, 7, 5, 5, 4, 5, 8, 5,\n",
      "        0, 5, 0, 5, 5, 4, 7, 2, 5, 5, 7, 7, 5, 5, 4, 7, 5, 5, 2, 5, 5, 5, 5, 5,\n",
      "        7, 5, 0, 5, 7, 5, 5, 7, 5, 4, 0, 5, 0, 5, 2, 2, 7, 2, 5, 7, 9, 6, 5, 0,\n",
      "        5, 5, 0, 5, 7, 5, 0, 7, 7, 5, 5, 2, 2, 7, 5, 5, 5, 5, 5, 0, 0, 7, 3, 0,\n",
      "        2, 1, 2, 1], device='cuda:0')\n"
     ]
    }
   ],
   "source": [
    "iteration = 0\n",
    "correct = 0\n",
    "\n",
    "for i,(inputs,labels) in enumerate (train_load):\n",
    "\n",
    "    if CUDA:\n",
    "        inputs = inputs.cuda()\n",
    "        labels = labels.cuda()\n",
    "        \n",
    "    print(\"For one iteration, this is what happens:\")\n",
    "    print(\"Input Shape:\",inputs.shape)\n",
    "    print(\"Labels Shape:\",labels.shape)\n",
    "    output = cnn(inputs)\n",
    "    print(\"Outputs Shape\",output.shape)\n",
    "    _, predicted = torch.max(output, 1)\n",
    "    print(\"Predicted Shape\",predicted.shape)\n",
    "    print(\"Predicted Tensor:\")\n",
    "    print(predicted)\n",
    "    correct += (predicted == labels).sum()\n",
    "    break"
   ]
  },
  {
   "cell_type": "code",
   "execution_count": null,
   "id": "0f2ed5dd",
   "metadata": {},
   "outputs": [],
   "source": []
  }
 ],
 "metadata": {
  "kernelspec": {
   "display_name": "Python 3 (ipykernel)",
   "language": "python",
   "name": "python3"
  },
  "language_info": {
   "codemirror_mode": {
    "name": "ipython",
    "version": 3
   },
   "file_extension": ".py",
   "mimetype": "text/x-python",
   "name": "python",
   "nbconvert_exporter": "python",
   "pygments_lexer": "ipython3",
   "version": "3.7.11"
  }
 },
 "nbformat": 4,
 "nbformat_minor": 5
}
