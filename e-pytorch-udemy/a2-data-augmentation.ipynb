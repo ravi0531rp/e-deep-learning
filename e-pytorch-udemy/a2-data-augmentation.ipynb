{
 "cells": [
  {
   "cell_type": "code",
   "execution_count": 1,
   "id": "703a3fc8",
   "metadata": {},
   "outputs": [],
   "source": [
    "import torch\n",
    "import torchvision\n",
    "import torch.nn as nn"
   ]
  },
  {
   "cell_type": "markdown",
   "id": "76ccc0ff",
   "metadata": {},
   "source": [
    "# Augmentation\n",
    "* Makes models robust to changes\n",
    "* Helps create more data and reduce data collection time\n",
    "* shear, rotation, noise, color distortion, channel reversal, center crop, five crop, saturation , hue , blur , random crop , random resize crop , random hist equalization, Auto augment , Random horizontal flip(p=0.2), Mixup (weighted addition of 2 images and then in labels, use both classes)\n",
    "\n",
    "* not all are suitable for every scenario"
   ]
  },
  {
   "cell_type": "markdown",
   "id": "2df65de1",
   "metadata": {},
   "source": [
    "## Mixup Implementation"
   ]
  },
  {
   "cell_type": "code",
   "execution_count": 2,
   "id": "eb69340d",
   "metadata": {},
   "outputs": [],
   "source": [
    "from PIL import Image\n",
    "import os\n",
    "from random import randint\n",
    "import numpy as np\n",
    "import matplotlib.pyplot as plt"
   ]
  },
  {
   "cell_type": "code",
   "execution_count": 4,
   "id": "36f66318",
   "metadata": {},
   "outputs": [],
   "source": [
    "img_folder = 'images/'\n",
    "imgs = os.listdir(img_folder)\n",
    "batch_x = [Image.open(img_folder+p).resize((224,224)) for p in imgs]"
   ]
  },
  {
   "cell_type": "code",
   "execution_count": 6,
   "id": "f90c99e9",
   "metadata": {},
   "outputs": [
    {
     "data": {
      "text/plain": [
       "48"
      ]
     },
     "execution_count": 6,
     "metadata": {},
     "output_type": "execute_result"
    }
   ],
   "source": [
    "len(batch_x)"
   ]
  },
  {
   "cell_type": "code",
   "execution_count": null,
   "id": "5bb0639a",
   "metadata": {},
   "outputs": [],
   "source": [
    "def normalize_image(x):\n",
    "    "
   ]
  }
 ],
 "metadata": {
  "kernelspec": {
   "display_name": "Python 3 (ipykernel)",
   "language": "python",
   "name": "python3"
  },
  "language_info": {
   "codemirror_mode": {
    "name": "ipython",
    "version": 3
   },
   "file_extension": ".py",
   "mimetype": "text/x-python",
   "name": "python",
   "nbconvert_exporter": "python",
   "pygments_lexer": "ipython3",
   "version": "3.7.11"
  }
 },
 "nbformat": 4,
 "nbformat_minor": 5
}
